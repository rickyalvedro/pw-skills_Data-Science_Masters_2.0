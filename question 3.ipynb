{
 "cells": [
  {
   "cell_type": "code",
   "execution_count": null,
   "id": "81d13d1b-0624-401b-ba9f-6e382ebb9a2d",
   "metadata": {},
   "outputs": [],
   "source": [
    "# (i). / = this is division operator , which is used to divide two numbers and find the quotient.  e.g.:-  x/y\n",
    "# (ii). % = this is modulus operator , which is also used to divide numbers but it is used to find remainder   e.g:-  x % y\n",
    "# (iii). // = this is floor division , the floor division // rounds the result down to the nearest whole number  e.g. :  15//4 = 3\n",
    "# (iv). ** = exponentiation operator , e.g : -  x = 2 , y = 5  , print(x ** y) #same as 2*2*2*2*2 = 32\n"
   ]
  }
 ],
 "metadata": {
  "kernelspec": {
   "display_name": "Python 3 (ipykernel)",
   "language": "python",
   "name": "python3"
  },
  "language_info": {
   "codemirror_mode": {
    "name": "ipython",
    "version": 3
   },
   "file_extension": ".py",
   "mimetype": "text/x-python",
   "name": "python",
   "nbconvert_exporter": "python",
   "pygments_lexer": "ipython3",
   "version": "3.10.8"
  }
 },
 "nbformat": 4,
 "nbformat_minor": 5
}
