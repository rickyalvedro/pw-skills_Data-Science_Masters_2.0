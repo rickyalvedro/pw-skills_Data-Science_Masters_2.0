{
 "cells": [
  {
   "cell_type": "code",
   "execution_count": 4,
   "id": "1bd0ec57-1380-4588-82db-73bbb7e1d122",
   "metadata": {},
   "outputs": [
    {
     "name": "stdout",
     "output_type": "stream",
     "text": [
      "A must be greater than B\n"
     ]
    },
    {
     "name": "stdin",
     "output_type": "stream",
     "text": [
      " 45\n",
      " 5\n"
     ]
    },
    {
     "name": "stdout",
     "output_type": "stream",
     "text": [
      "No of times A is divisible by B ---> 1\n"
     ]
    }
   ],
   "source": [
    "i = 0\n",
    "print(\"A must be greater than B\")\n",
    "A = int(input())\n",
    "B = int(input())\n",
    "\n",
    "while  A%B == 0:\n",
    "        A = A/B\n",
    "        i = i+1\n",
    "    \n",
    "print(\"No of times A is divisible by B --->\",i)"
   ]
  },
  {
   "cell_type": "code",
   "execution_count": null,
   "id": "10cfa72f-3e28-4e20-aa98-e086e98944c7",
   "metadata": {},
   "outputs": [],
   "source": []
  }
 ],
 "metadata": {
  "kernelspec": {
   "display_name": "Python 3 (ipykernel)",
   "language": "python",
   "name": "python3"
  },
  "language_info": {
   "codemirror_mode": {
    "name": "ipython",
    "version": 3
   },
   "file_extension": ".py",
   "mimetype": "text/x-python",
   "name": "python",
   "nbconvert_exporter": "python",
   "pygments_lexer": "ipython3",
   "version": "3.10.8"
  }
 },
 "nbformat": 4,
 "nbformat_minor": 5
}
