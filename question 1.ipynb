{
 "cells": [
  {
   "cell_type": "code",
   "execution_count": 1,
   "id": "56c63462-b5dc-4cc3-abc5-dc0f3ef472cd",
   "metadata": {},
   "outputs": [],
   "source": [
    "var1 = ''"
   ]
  },
  {
   "cell_type": "code",
   "execution_count": 2,
   "id": "b14a9d02-161a-4c78-9069-98c36a54c58d",
   "metadata": {},
   "outputs": [
    {
     "data": {
      "text/plain": [
       "str"
      ]
     },
     "execution_count": 2,
     "metadata": {},
     "output_type": "execute_result"
    }
   ],
   "source": [
    "type(var1)"
   ]
  },
  {
   "cell_type": "code",
   "execution_count": 7,
   "id": "5a13f0da-b3a9-465d-82e3-5ae91f3cf374",
   "metadata": {},
   "outputs": [],
   "source": [
    "thistuple = (\"apple\", \"banana\", \"guava\", \"orange\")"
   ]
  },
  {
   "cell_type": "code",
   "execution_count": 8,
   "id": "45c9c54c-e8b4-43c3-86b9-330be099fbd7",
   "metadata": {},
   "outputs": [
    {
     "data": {
      "text/plain": [
       "('apple', 'banana', 'guava', 'orange')"
      ]
     },
     "execution_count": 8,
     "metadata": {},
     "output_type": "execute_result"
    }
   ],
   "source": [
    "thistuple"
   ]
  },
  {
   "cell_type": "code",
   "execution_count": 9,
   "id": "520c74d4-6aac-41f3-af87-f4cb39e38cf0",
   "metadata": {},
   "outputs": [],
   "source": [
    "tuple1 = tuple((\"fish\", \"mutton\", 420, 36.985, \"veg\"))"
   ]
  },
  {
   "cell_type": "code",
   "execution_count": 10,
   "id": "5f01d6a7-6bc4-4dda-bd32-210cee3e754d",
   "metadata": {},
   "outputs": [
    {
     "name": "stdout",
     "output_type": "stream",
     "text": [
      "('fish', 'mutton', 420, 36.985, 'veg')\n"
     ]
    }
   ],
   "source": [
    "print(tuple1)"
   ]
  },
  {
   "cell_type": "code",
   "execution_count": 11,
   "id": "f4fd3e64-a60f-403b-bfff-be979e9937f5",
   "metadata": {},
   "outputs": [],
   "source": [
    "var2 = 66.35789"
   ]
  },
  {
   "cell_type": "code",
   "execution_count": 12,
   "id": "7895b175-eb37-44ff-8cd3-4c812349746e",
   "metadata": {},
   "outputs": [
    {
     "name": "stdout",
     "output_type": "stream",
     "text": [
      "66.35789\n"
     ]
    }
   ],
   "source": [
    "print(var2)"
   ]
  },
  {
   "cell_type": "code",
   "execution_count": 13,
   "id": "5e46b2bf-3e10-461e-84c6-34e5bc6d99ad",
   "metadata": {},
   "outputs": [
    {
     "name": "stdout",
     "output_type": "stream",
     "text": [
      "<class 'float'>\n"
     ]
    }
   ],
   "source": [
    "print(type(var2))"
   ]
  },
  {
   "cell_type": "code",
   "execution_count": 14,
   "id": "4c25b0e6-900a-4e27-ac2d-34243955d83f",
   "metadata": {},
   "outputs": [],
   "source": [
    "l = [\"ram\", \"shyam\", \"akhilesh\", 786, 23.456]"
   ]
  },
  {
   "cell_type": "code",
   "execution_count": 15,
   "id": "bd3cd210-7e21-4ec3-bb36-bbeb68d41d6c",
   "metadata": {},
   "outputs": [
    {
     "name": "stdout",
     "output_type": "stream",
     "text": [
      "<class 'list'>\n"
     ]
    }
   ],
   "source": [
    "print(type(l))"
   ]
  },
  {
   "cell_type": "code",
   "execution_count": 16,
   "id": "84e8c4ad-0eca-461b-ae92-e9426a798c48",
   "metadata": {},
   "outputs": [],
   "source": [
    "var = \"Siraj\""
   ]
  },
  {
   "cell_type": "code",
   "execution_count": 17,
   "id": "39eefb65-bdfa-49f3-916c-48235b9bb506",
   "metadata": {},
   "outputs": [
    {
     "name": "stdout",
     "output_type": "stream",
     "text": [
      "<class 'str'>\n"
     ]
    }
   ],
   "source": [
    "print(type(var))"
   ]
  },
  {
   "cell_type": "code",
   "execution_count": null,
   "id": "92f85974-32b6-48b1-a2fc-998deee393f6",
   "metadata": {},
   "outputs": [],
   "source": []
  }
 ],
 "metadata": {
  "kernelspec": {
   "display_name": "Python 3 (ipykernel)",
   "language": "python",
   "name": "python3"
  },
  "language_info": {
   "codemirror_mode": {
    "name": "ipython",
    "version": 3
   },
   "file_extension": ".py",
   "mimetype": "text/x-python",
   "name": "python",
   "nbconvert_exporter": "python",
   "pygments_lexer": "ipython3",
   "version": "3.10.8"
  }
 },
 "nbformat": 4,
 "nbformat_minor": 5
}
