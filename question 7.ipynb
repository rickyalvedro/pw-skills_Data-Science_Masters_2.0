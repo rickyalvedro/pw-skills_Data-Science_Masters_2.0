{
 "cells": [
  {
   "cell_type": "code",
   "execution_count": null,
   "id": "8579ef7e-ccaa-41f1-80e0-fb1fbca7707c",
   "metadata": {},
   "outputs": [],
   "source": [
    "# Strings and tuples are immutable, while lists, dictionaries, and sets are mutable.\n",
    "# Immutable Objects : These are of in-built types like int, float, bool, string, unicode, tuple. In simple words, an immutable object can’t be changed after it is created.\n",
    "# Example of immutables:-\n",
    "#1 . tuples are immutable \n",
    "    \n",
    "# tuple1 = (0, 1, 2, 3) \n",
    "# tuple1[0] = 4\n",
    "# print(tuple1)\n",
    "\n",
    "# TypeError: 'tuple' object does not support item assignment\n",
    "\n",
    "\n",
    "#2 . strings are immutable \n",
    "  \n",
    "# message = \"Welcome to GeeksforGeeks\"\n",
    "# message[0] = 'p'\n",
    "# print(message)\n",
    "\n",
    "# TypeError: 'str' object does not support item assignment\n",
    "\n",
    "#3 . lists are mutable \n",
    "# color = [\"red\", \"blue\", \"green\"]\n",
    "# print(color)\n",
    "  \n",
    "# color[0] = \"pink\"\n",
    "# color[-1] = \"orange\"\n",
    "# print(color)\n",
    "\n",
    "# O/P:-\n",
    "# ['red', 'blue', 'green']\n",
    "# ['pink', 'blue', 'orange']\n"
   ]
  }
 ],
 "metadata": {
  "kernelspec": {
   "display_name": "Python 3 (ipykernel)",
   "language": "python",
   "name": "python3"
  },
  "language_info": {
   "codemirror_mode": {
    "name": "ipython",
    "version": 3
   },
   "file_extension": ".py",
   "mimetype": "text/x-python",
   "name": "python",
   "nbconvert_exporter": "python",
   "pygments_lexer": "ipython3",
   "version": "3.10.8"
  }
 },
 "nbformat": 4,
 "nbformat_minor": 5
}
