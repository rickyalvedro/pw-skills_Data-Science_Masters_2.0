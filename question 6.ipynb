{
 "cells": [
  {
   "cell_type": "code",
   "execution_count": 3,
   "id": "f3adcb2d-2915-4167-a72f-eb9b477c8283",
   "metadata": {},
   "outputs": [
    {
     "name": "stdout",
     "output_type": "stream",
     "text": [
      "1  is not divisible by 3\n",
      "2  is not divisible by 3\n",
      "3  is divisible by 3\n",
      "4  is not divisible by 3\n",
      "5  is not divisible by 3\n",
      "6  is divisible by 3\n",
      "7  is not divisible by 3\n",
      "8  is not divisible by 3\n",
      "9  is divisible by 3\n",
      "10  is not divisible by 3\n",
      "11  is not divisible by 3\n",
      "12  is divisible by 3\n",
      "13  is not divisible by 3\n",
      "14  is not divisible by 3\n",
      "15  is divisible by 3\n",
      "16  is not divisible by 3\n",
      "17  is not divisible by 3\n",
      "18  is divisible by 3\n",
      "19  is not divisible by 3\n",
      "20  is not divisible by 3\n",
      "21  is divisible by 3\n",
      "22  is not divisible by 3\n",
      "23  is not divisible by 3\n",
      "24  is divisible by 3\n",
      "25  is not divisible by 3\n"
     ]
    }
   ],
   "source": [
    "l = list(range(1,26))\n",
    "for i in l :\n",
    "    if i%3 == 0:\n",
    "        print(i,\" is divisible by 3\")\n",
    "    else:\n",
    "        print(i,\" is not divisible by 3\")\n"
   ]
  },
  {
   "cell_type": "code",
   "execution_count": 2,
   "id": "b9a293f6-b18d-4d4c-adb0-a676784a25f5",
   "metadata": {},
   "outputs": [
    {
     "name": "stdin",
     "output_type": "stream",
     "text": [
      " 25\n",
      " 63\n",
      " 78\n",
      " 94\n",
      " 52\n",
      " 63\n",
      " 15\n",
      " 12\n",
      " 41\n",
      " 40\n",
      " 45\n",
      " 95\n",
      " 60\n",
      " 20\n",
      " 13\n",
      " 57\n",
      " 52\n",
      " 38\n",
      " 37\n",
      " 91\n",
      " 40\n",
      " 021\n",
      " 54\n",
      " 56\n",
      " 5321\n"
     ]
    },
    {
     "name": "stdout",
     "output_type": "stream",
     "text": [
      "25  is not divisible by 3\n",
      "63  is divisible by 3\n",
      "78  is divisible by 3\n",
      "94  is not divisible by 3\n",
      "52  is not divisible by 3\n",
      "63  is divisible by 3\n",
      "15  is divisible by 3\n",
      "12  is divisible by 3\n",
      "41  is not divisible by 3\n",
      "40  is not divisible by 3\n",
      "45  is divisible by 3\n",
      "95  is not divisible by 3\n",
      "60  is divisible by 3\n",
      "20  is not divisible by 3\n",
      "13  is not divisible by 3\n",
      "57  is divisible by 3\n",
      "52  is not divisible by 3\n",
      "38  is not divisible by 3\n",
      "37  is not divisible by 3\n",
      "91  is not divisible by 3\n",
      "40  is not divisible by 3\n",
      "21  is divisible by 3\n",
      "54  is divisible by 3\n",
      "56  is not divisible by 3\n",
      "5321  is not divisible by 3\n"
     ]
    }
   ],
   "source": [
    "l = []\n",
    "i = 0\n",
    "while i<25:\n",
    "    l.append(int(input()))\n",
    "    i = i + 1\n",
    "    \n",
    "for i in l :\n",
    "    if i%3 == 0:\n",
    "        print(i,\" is divisible by 3\")\n",
    "    else:\n",
    "        print(i,\" is not divisible by 3\")"
   ]
  },
  {
   "cell_type": "code",
   "execution_count": null,
   "id": "67d9630f-a9f3-4fe1-8154-e5a8213ac031",
   "metadata": {},
   "outputs": [],
   "source": []
  }
 ],
 "metadata": {
  "kernelspec": {
   "display_name": "Python 3 (ipykernel)",
   "language": "python",
   "name": "python3"
  },
  "language_info": {
   "codemirror_mode": {
    "name": "ipython",
    "version": 3
   },
   "file_extension": ".py",
   "mimetype": "text/x-python",
   "name": "python",
   "nbconvert_exporter": "python",
   "pygments_lexer": "ipython3",
   "version": "3.10.8"
  }
 },
 "nbformat": 4,
 "nbformat_minor": 5
}
