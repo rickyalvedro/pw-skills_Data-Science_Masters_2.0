{
  "nbformat": 4,
  "nbformat_minor": 0,
  "metadata": {
    "colab": {
      "provenance": []
    },
    "kernelspec": {
      "name": "python3",
      "display_name": "Python 3"
    },
    "language_info": {
      "name": "python"
    }
  },
  "cells": [
    {
      "cell_type": "code",
      "execution_count": 6,
      "metadata": {
        "id": "7iPQdJB6Vf4I"
      },
      "outputs": [],
      "source": [
        "\n",
        "# 1. How do you comment code in Python? What are the different types of comments?\n",
        "\n",
        "# Ans> In Python, you can add comments to your code to provide explanatory notes or to temporarily disable certain lines of code. Comments are lines that are not executed by the Python interpreter and are meant for the programmer's understanding.\n",
        "\n",
        "# There are two main types of comments in Python:\n",
        "\n",
        "#    1 . Single-line comments: Single-line comments start with the # symbol. Anything written after the # symbol on the same line is considered a comment and will not be executed.\n",
        "#    e.g. # This is a single-line comment\n",
        "#           print(\"Hello, World!\")\n",
        "#           # This is also a comment\n",
        "\n",
        "#    2 . Multi-line comments (Docstrings): Multi-line comments are enclosed within triple quotes. They are often used as docstrings to provide documentation for functions, classes, and modules. Docstrings are accessible through the object's __doc__ attribute.\n",
        "#    e.g.\n",
        "#         \"\"\"\n",
        "#         This is a multi-line comment (docstring).\n",
        "#         It can span multiple lines and is typically used to document functions, classes, or modules.\n",
        "#         \"\"\"\n",
        "\n",
        "#         def add(a, b):\n",
        "#             \"\"\"\n",
        "#             This function adds two numbers and returns the result.\n",
        "#             Parameters:\n",
        "#                 a (int): The first number.\n",
        "#                 b (int): The second number.\n",
        "#             Returns:\n",
        "#                 int: The sum of a and b.\n",
        "#             \"\"\"\n",
        "#                   return a + b\n"
      ]
    },
    {
      "cell_type": "code",
      "source": [
        "\n",
        "# 2. What are variables in Python? How do you declare and assign values to variables?\n",
        "\n",
        "# Ans> In Python, variables are used to store data or values in memory. They act as containers that hold references to the data stored in memory. Variables can store various types of data, such as numbers, strings, lists, dictionaries, and more.\n",
        "\n",
        "# To declare and assign values to variables in Python, you simply need to use the variable name and the assignment operator (=). The syntax for declaring and assigning a value to a variable is as follows:\n",
        "# variable_name = value\n",
        "\n",
        "# Here is an example of declaring and assigning values to variables:\n",
        "# # Declaring and assigning integer values to variables\n",
        "# x = 10\n",
        "# y = 5\n",
        "\n",
        "# # Declaring and assigning string values to variables\n",
        "# name = \"John\"\n",
        "# message = \"Hello, World!\"\n",
        "\n",
        "# # Declaring and assigning a list to a variable\n",
        "# numbers = [1, 2, 3, 4, 5]\n",
        "\n",
        "# # Declaring and assigning a dictionary to a variable\n",
        "# person = {\"name\": \"Alice\", \"age\": 30, \"gender\": \"female\"}\n",
        "\n",
        "# In Python, you do not need to explicitly specify the data type of the variable when declaring it. Python is dynamically typed, meaning that the data type of the variable is determined at runtime based on the value it is assigned. For example, in the code snippet above, x and y are considered integer variables because they are assigned integer values, while name and message are considered string variables because they are assigned string values.\n",
        "\n",
        "# You can also reassign new values to a variable after it has been declared:\n",
        "# x = 10\n",
        "# print(x)  # Output: 10\n",
        "\n",
        "# x = 20\n",
        "# print(x)  # Output: 20\n",
        "\n",
        "# Keep in mind that variables in Python are case-sensitive. So variable_name and Variable_Name would be treated as two separate variables. Also, variables should follow the rules for Python identifiers, which means they must start with a letter (a-z, A-Z) or an underscore (_) and can be followed by letters, digits, and underscores. They should not be Python keywords (reserved words)."
      ],
      "metadata": {
        "id": "BOaEpYETWhNz"
      },
      "execution_count": 7,
      "outputs": []
    },
    {
      "cell_type": "code",
      "source": [
        "\n",
        "# 3. In Python, you can convert one data type to another using type conversion functions or constructors. Python provides several built-in functions for data type conversion. Here are some commonly used methods to convert between data types:\n",
        "\n",
        "#    1. Integer to String: Use the str() function to convert an integer to a string.\n",
        "#     number = 42\n",
        "#     number_as_string = str(number)\n",
        "#     print(type(number_as_string))  # Output: <class 'str'>\n",
        "\n",
        "#    2. String to Integer: Use the int() function to convert a string to an integer.\n",
        "\n",
        "#       number_as_string = \"42\"\n",
        "#       number = int(number_as_string)\n",
        "#       print(type(number))  # Output: <class 'int'>\n",
        "\n",
        "#    3. Integer to Float: An integer can be directly converted to a float without using a function.\n",
        "\n",
        "#       integer_number = 42\n",
        "#       float_number = float(integer_number)\n",
        "#       print(type(float_number))  # Output: <class 'float'>\n",
        "\n",
        "#    4. Float to Integer: Use the int() function to convert a floating-point number to an integer. Note that the decimal part will be truncated.\n",
        "\n",
        "#       float_number = 3.14\n",
        "#       integer_number = int(float_number)\n",
        "#       print(type(integer_number))  # Output: <class 'int'>\n",
        "\n",
        "#    5. List to Tuple: Use the tuple() constructor to convert a list to a tuple.\n",
        "\n",
        "#       my_list = [1, 2, 3]\n",
        "#       my_tuple = tuple(my_list)\n",
        "#       print(type(my_tuple))  # Output: <class 'tuple'>\n",
        "\n",
        "#    6. Tuple to List: Use the list() constructor to convert a tuple to a list.\n",
        "\n",
        "#       my_tuple = (1, 2, 3)\n",
        "#       my_list = list(my_tuple)\n",
        "#       print(type(my_list))  # Output: <class 'list'>"
      ],
      "metadata": {
        "id": "5I2wRPNS6nTt"
      },
      "execution_count": 8,
      "outputs": []
    },
    {
      "cell_type": "code",
      "source": [
        "# 4. How do you write and execute a Python script from the command line?\n",
        "\n",
        "# Ans>\n",
        "# Open a command-line interface\n",
        "# On Windows, open the Command Prompt (cmd.exe) or PowerShell. On Linux and macOS, open the Terminal.\n",
        "# Navigate to the directory containing the Python script\n",
        "# Use the cd command to change the directory to the location where your Python script (hello.py) is saved.\n",
        "\n",
        "# For example, if your script is saved in the Desktop folder:\n",
        "# # On Windows\n",
        "# cd C:\\Users\\YourUsername\\Desktop\n",
        "\n",
        "# # On Linux/macOS\n",
        "# cd ~/Desktop\n",
        "\n",
        "# Execute the Python script\n",
        "# To execute the Python script, simply type python followed by the name of your script file and press Enter.\n",
        "\n",
        "# python hello.py\n",
        "\n",
        "# After executing the command, you should see the output of your Python script in the command-line interface:\n",
        "\n",
        "# Hello, World!"
      ],
      "metadata": {
        "id": "knhUdLVl9zmU"
      },
      "execution_count": 9,
      "outputs": []
    },
    {
      "cell_type": "code",
      "source": [
        "# 5. Given a list my_list = [1, 2, 3, 4, 5], write the code to slice the list and obtain the sub-list [2, 3].\n",
        "# Ans>\n",
        "# my_list = [1,2,3,4,5]\n",
        "# output = my_list[1:3]\n",
        "# print(output)\n",
        "\n",
        "# OUTPUT : [2, 3]"
      ],
      "metadata": {
        "id": "ou_sLyqQ_nR8"
      },
      "execution_count": 12,
      "outputs": []
    },
    {
      "cell_type": "code",
      "source": [
        "# 6. What is a complex number in mathematics, and how is it represented in Python?\n",
        "# Ans>\n",
        "# In mathematics, a complex number is a number that can be expressed in the form a + bi, where a and b are real numbers, and i is the imaginary unit, which is defined as the square root of -1. The real part (a) represents the horizontal axis, and the imaginary part (bi) represents the vertical axis on the complex plane.\n",
        "\n",
        "# The imaginary unit i has the property that i^2 = -1, which means i cannot be represented as a real number, but it is a fundamental concept in mathematics that extends the real number system to include the complex number system.\n",
        "\n",
        "# In Python, complex numbers are fully supported as a built-in data type. To represent a complex number, you use the j (or J) symbol to denote the imaginary part. The syntax for a complex number in Python is:\n",
        "\n",
        "# a = real_part + imaginary_part * 1j\n",
        "\n",
        "# # Complex number with real and imaginary parts\n",
        "# z1 = 2 + 3j\n",
        "\n",
        "# # Complex number with only the real part (imaginary part is 0)\n",
        "# z2 = 5\n",
        "\n",
        "# # Complex number with only the imaginary part (real part is 0)\n",
        "# z3 = 1j\n",
        "\n",
        "# # Complex number with negative imaginary part\n",
        "# z4 = -4j\n",
        "\n",
        "# # Basic operations with complex numbers\n",
        "# z1 = 2 + 3j\n",
        "# z2 = 1 + 1j\n",
        "\n",
        "# # Addition\n",
        "# result_add = z1 + z2\n",
        "# print(\"Addition:\", result_add)  # Output: (3+4j)\n",
        "\n",
        "# # Multiplication\n",
        "# result_mul = z1 * z2\n",
        "# print(\"Multiplication:\", result_mul)  # Output: (-1+5j)"
      ],
      "metadata": {
        "id": "46APhahBAHpN"
      },
      "execution_count": 13,
      "outputs": []
    },
    {
      "cell_type": "code",
      "source": [
        "# 7. What is the correct way to declare a variable named age and assign the value 25 to it?\n",
        "# Ans>\n",
        "# age = 25\n",
        "# print(age)  # Output: 25"
      ],
      "metadata": {
        "id": "ypVV0-ULBMal"
      },
      "execution_count": 14,
      "outputs": []
    },
    {
      "cell_type": "code",
      "source": [
        "# 8. Declare a variable named price and assign the value 9.99 to it. What data type does this variable\n",
        "# belong to?\n",
        "# Ans>\n",
        "# price = 9.99\n",
        "# print(type(price))  # Output: <class 'float'>"
      ],
      "metadata": {
        "id": "LyMMD1KWBoGv"
      },
      "execution_count": 15,
      "outputs": []
    },
    {
      "cell_type": "code",
      "source": [
        "# 9. Create a variable named name and assign your full name to it as a string. How would you print the\n",
        "# value of this variable?\n",
        "# Ans>\n",
        "name = \"Sirajuddin Khan\"\n",
        "print(name)\n",
        "\n",
        "# Output: Sirajuddin Khan"
      ],
      "metadata": {
        "colab": {
          "base_uri": "https://localhost:8080/"
        },
        "id": "_-XZhG6lCQUm",
        "outputId": "22341750-6d57-4175-d57c-1b961314d4ac"
      },
      "execution_count": 17,
      "outputs": [
        {
          "output_type": "stream",
          "name": "stdout",
          "text": [
            "Sirajuddin Khan\n"
          ]
        }
      ]
    },
    {
      "cell_type": "code",
      "source": [
        "# 10. Given the string \"Hello, World!\", extract the substring \"World\".\n",
        "# Ans>\n",
        "intro = \"Hello, World!\"\n",
        "output = intro[7:len(intro)-1]\n",
        "print(output)"
      ],
      "metadata": {
        "colab": {
          "base_uri": "https://localhost:8080/"
        },
        "id": "ewqqkNjtCjUF",
        "outputId": "0476b413-c4a0-4b47-bf23-08e4b9fcd083"
      },
      "execution_count": 21,
      "outputs": [
        {
          "output_type": "stream",
          "name": "stdout",
          "text": [
            "World\n"
          ]
        }
      ]
    },
    {
      "cell_type": "code",
      "source": [
        "# 11. Create a variable named \"is_student\" and assign it a boolean value indicating whether you are\n",
        "# currently a student or not.\n",
        "# Ans>\n",
        "is_student = True\n",
        "print(is_student)"
      ],
      "metadata": {
        "colab": {
          "base_uri": "https://localhost:8080/"
        },
        "id": "lG9TLsyzDIZm",
        "outputId": "4507e047-3006-49ff-8594-2b3e95ae7d53"
      },
      "execution_count": 23,
      "outputs": [
        {
          "output_type": "stream",
          "name": "stdout",
          "text": [
            "True\n"
          ]
        }
      ]
    },
    {
      "cell_type": "code",
      "source": [
        "\"\"\" Completed \"\"\""
      ],
      "metadata": {
        "id": "SD1yvnjzDktQ"
      },
      "execution_count": 22,
      "outputs": []
    }
  ]
}