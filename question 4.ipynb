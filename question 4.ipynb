{
 "cells": [
  {
   "cell_type": "code",
   "execution_count": 9,
   "id": "857fc1d9-f956-44aa-9969-ed6caaffd092",
   "metadata": {},
   "outputs": [
    {
     "name": "stdout",
     "output_type": "stream",
     "text": [
      "siraj ---> Data type =  <class 'str'>\n",
      "pintu ---> Data type =  <class 'str'>\n",
      "chintu ---> Data type =  <class 'str'>\n",
      "210 ---> Data type =  <class 'int'>\n",
      "420 ---> Data type =  <class 'int'>\n",
      "360 ---> Data type =  <class 'int'>\n",
      "2.035 ---> Data type =  <class 'float'>\n",
      "56.321478 ---> Data type =  <class 'float'>\n",
      "True ---> Data type =  <class 'bool'>\n",
      "False ---> Data type =  <class 'bool'>\n"
     ]
    }
   ],
   "source": [
    "l = [\"siraj\", \"pintu\", \"chintu\", 210, 420, 360, 2.035, 56.321478, True, False]\n",
    "for i in l :\n",
    "    print (i,\"---> Data type = \",type(i))\n",
    "    "
   ]
  },
  {
   "cell_type": "code",
   "execution_count": null,
   "id": "fac2a05e-a405-452d-8ee5-09ec8d6f68a2",
   "metadata": {},
   "outputs": [],
   "source": []
  }
 ],
 "metadata": {
  "kernelspec": {
   "display_name": "Python 3 (ipykernel)",
   "language": "python",
   "name": "python3"
  },
  "language_info": {
   "codemirror_mode": {
    "name": "ipython",
    "version": 3
   },
   "file_extension": ".py",
   "mimetype": "text/x-python",
   "name": "python",
   "nbconvert_exporter": "python",
   "pygments_lexer": "ipython3",
   "version": "3.10.8"
  }
 },
 "nbformat": 4,
 "nbformat_minor": 5
}
